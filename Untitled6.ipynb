{
 "cells": [
  {
   "cell_type": "code",
   "execution_count": 2,
   "id": "d0962655-ce81-48da-9fb1-5315be4a340a",
   "metadata": {},
   "outputs": [
    {
     "name": "stdin",
     "output_type": "stream",
     "text": [
      "Enter a five-digit integer:  73695\n"
     ]
    },
    {
     "name": "stdout",
     "output_type": "stream",
     "text": [
      "7   3   6   9   5\n"
     ]
    }
   ],
   "source": [
    "# 2.11 Separating the Digits in an Integer by sriman\n",
    "number = int(input('Enter a five-digit integer: '))\n",
    "\n",
    "digit1 = number // 10000\n",
    "digit2 = (number % 10000) // 1000\n",
    "digit3 = (number % 1000) // 100\n",
    "digit4 = (number % 100) // 10\n",
    "digit5 = number % 10\n",
    "\n",
    "print(f'{digit1}   {digit2}   {digit3}   {digit4}   {digit5}')\n"
   ]
  },
  {
   "cell_type": "code",
   "execution_count": null,
   "id": "1419906a-0529-4499-b07a-a02808e8555b",
   "metadata": {},
   "outputs": [],
   "source": []
  }
 ],
 "metadata": {
  "kernelspec": {
   "display_name": "Python 3 (ipykernel)",
   "language": "python",
   "name": "python3"
  },
  "language_info": {
   "codemirror_mode": {
    "name": "ipython",
    "version": 3
   },
   "file_extension": ".py",
   "mimetype": "text/x-python",
   "name": "python",
   "nbconvert_exporter": "python",
   "pygments_lexer": "ipython3",
   "version": "3.12.4"
  }
 },
 "nbformat": 4,
 "nbformat_minor": 5
}
